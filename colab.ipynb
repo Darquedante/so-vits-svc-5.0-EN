{
  "cells": [
    {
      "cell_type": "markdown",
      "metadata": {
        "id": "SggegFslkbbK"
      },
      "source": [
        "https://github.com/PlayVoice/so-vits-svc-5.0/\n",
        "\n",
        "↑Original repository\n",
        "\n",
        "*《Methods to keep the colab connection alive》*https://zhuanlan.zhihu.com/p/144629818\n",
        "\n",
        "Preview version, inference with preset models is available"
      ]
    },
    {
      "cell_type": "markdown",
      "metadata": {
        "id": "M1MdDryJP73G"
      },
      "source": [
        "# **Environment Setup & Necessary File Downloads**\n"
      ]
    },
    {
      "cell_type": "code",
      "execution_count": null,
      "metadata": {
        "id": "xfJWCr_EkO2i"
      },
      "outputs": [],
      "source": [
        "#@title Let's see what card we got~~mostly T4~~\n",
        "!nvidia-smi"
      ]
    },
    {
      "cell_type": "code",
      "execution_count": null,
      "metadata": {
        "id": "nMspj8t3knR6"
      },
      "outputs": [],
      "source": [
        "#@title Clone the GitHub repository\n",
        "!git clone https://github.com/Darquedante/so-vits-svc-5.0-EN.git/ -b bigvgan-mix-v2"
      ]
    },
    {
      "cell_type": "code",
      "execution_count": null,
      "metadata": {
        "id": "Kj2j81K6kubj"
      },
      "outputs": [],
      "source": [
        "#@title Install Dependencies & Download Necessary Files\n",
        "%cd /content/so-vits-svc-5.0\n",
        "\n",
        "!pip install -r requirements.txt\n",
        "!pip install --upgrade pip setuptools numpy numba\n",
        "\n",
        "!wget -P hubert_pretrain/ https://github.com/bshall/hubert/releases/download/v0.1/hubert-soft-0d54a1f4.pt\n",
        "!wget -P whisper_pretrain/ https://openaipublic.azureedge.net/main/whisper/models/81f7c96c852ee8fc832187b0132e569d6c3065a3252ed18e56effd0b6a73e524/large-v2.pt\n",
        "!wget -P speaker_pretrain/ https://github.com/PlayVoice/so-vits-svc-5.0/releases/download/dependency/best_model.pth.tar\n",
        "!wget -P crepe/assets https://github.com/PlayVoice/so-vits-svc-5.0/releases/download/dependency/full.pth\n",
        "!wget -P vits_pretrain https://github.com/PlayVoice/so-vits-svc-5.0/releases/download/5.0/sovits5.0.pretrain.pth"
      ]
    },
    {
      "cell_type": "code",
      "execution_count": null,
      "metadata": {
        "id": "v9zHS9VXly9b"
      },
      "outputs": [],
      "source": [
        "#@title Mount Google Drive\n",
        "from google.colab import drive\n",
        "drive.mount('/content/drive')"
      ]
    },
    {
      "cell_type": "markdown",
      "metadata": {
        "id": "hZ5KH8NgQ7os"
      },
      "source": [
        "# Preview of Multi-Speaker Inference"
      ]
    },
    {
      "cell_type": "code",
      "execution_count": null,
      "metadata": {
        "id": "2o6m3D0IsphU"
      },
      "outputs": [],
      "source": [
        "#@title Extract Content Encoding\n",
        "\n",
        "#@markdown **Upload the processed \" .wav \" source file to the root directory of the cloud drive and modify the following options**\n",
        "\n",
        "#@markdown **\" .wav \" file [File Name]**\n",
        "input = \"\\u30AE\\u30BF\\u30FC\\u3068\\u5B64\\u72EC\\u3068\\u84BC\\u3044\\u60D1\\u661F\" #@param {type:\"string\"}\n",
        "input_path = \"/content/drive/MyDrive/\"\n",
        "input_name =  input_path + input\n",
        "!PYTHONPATH=. python whisper/inference.py -w {input_name}.wav -p test.ppg.npy"
      ]
    },
    {
      "cell_type": "code",
      "execution_count": null,
      "metadata": {
        "id": "A7nvX5mRlwJ7"
      },
      "outputs": [],
      "source": [
        "#@title Inference\n",
        "\n",
        "#@markdown **Upload the processed \" .wav \" source file to the root directory of the cloud drive and modify the following options**\n",
        "\n",
        "#@markdown **\" .wav \" file [File Name]**\n",
        "input = \"\\u30AE\\u30BF\\u30FC\\u3068\\u5B64\\u72EC\\u3068\\u84BC\\u3044\\u60D1\\u661F\" #@param {type:\"string\"}\n",
        "input_path = \"/content/drive/MyDrive/\"\n",
        "input_name =  input_path + input\n",
        "#@markdown **Specify the speaker (0001~0056) (Recommendations: 0022, 0030, 0047, 0051)**\n",
        "speaker = \"0002\" #@param {type:\"string\"}\n",
        "!PYTHONPATH=. python svc_inference.py --config configs/base.yaml --model vits_pretrain/sovits5.0.pretrain.pth --spk ./configs/singers/singer{speaker}.npy --wave {input_name}.wav  --ppg test.ppg.npy"
      ]
    },
    {
      "cell_type": "markdown",
      "metadata": {
        "id": "F8oerogXyd3u"
      },
      "source": [
        "The inference results are saved in the root directory, with the file name svc_out.wav"
      ]
    },
    {
      "cell_type": "markdown",
      "metadata": {
        "id": "qKX17GElPuso"
      },
      "source": [
        "# Training"
      ]
    },
    {
      "cell_type": "markdown",
      "metadata": {
        "id": "sVe0lEGWQBLU"
      },
      "source": [
        "Clip audio to segments less than 30 seconds, match loudness and convert to mono channel, preprocessing will resample so there's no requirement for the sampling rate. (However, reducing the sampling rate will decrease the quality of your data.)\n",
        "\n",
        "**Use Adobe Audition™'s loudness matching feature to complete resampling, channel modification, and loudness matching in one go.**\n",
        "\n",
        "Then save the audio files in the following file structure:\n",
        "```\n",
        "dataset_raw\n",
        "├───speaker0\n",
        "│   ├───xxx1-xxx1.wav\n",
        "│   ├───...\n",
        "│   └───Lxx-0xx8.wav\n",
        "└───speaker1\n",
        "    ├───xx2-0xxx2.wav\n",
        "    ├───...\n",
        "    └───xxx7-xxx007.wav\n",
        "```\n",
        "\n",
        "Pack it in a zip format, name it data.zip, and upload it to the root directory of the cloud drive."
      ]
    },
    {
      "cell_type": "code",
      "execution_count": null,
      "metadata": {
        "id": "vC8IthV8VYgy"
      },
      "outputs": [],
      "source": [
        "#@title Retrieve Dataset from Cloud Drive\n",
        "!unzip -d /content/so-vits-svc-5.0/ /content/drive/MyDrive/data.zip #Modify the path and file name as needed"
      ]
    },
    {
      "cell_type": "code",
      "execution_count": null,
      "metadata": {
        "id": "J101PiFUSL1N"
      },
      "outputs": [],
      "source": [
        "#@title Resampling\n",
        "# Generate audio at 16000Hz sample rate, storage path: ./data_svc/waves-16k\n",
        "!python prepare/preprocess_a.py -w ./dataset_raw -o ./data_svc/waves-16k -s 16000\n",
        "# Generate audio at 32000Hz sample rate, storage path: ./data_svc/waves-32k\n",
        "!python prepare/preprocess_a.py -w ./dataset_raw -o ./data_svc/waves-32k -s 32000"
      ]
    },
    {
      "cell_type": "code",
      "execution_count": null,
      "metadata": {
        "id": "ZpxeYJCBSbgf"
      },
      "outputs": [],
      "source": [
        "#@title Extract f0\n",
        "!python prepare/preprocess_f0.py -w data_svc/waves-16k/ -p data_svc/pitch"
      ]
    },
    {
      "cell_type": "code",
      "execution_count": null,
      "metadata": {
        "id": "7VasDGhDSlP5"
      },
      "outputs": [],
      "source": [
        "#@title Use 16k audio to extract content encoding\n",
        "!PYTHONPATH=. python prepare/preprocess_ppg.py -w data_svc/waves-16k/ -p data_svc/whisper"
      ]
    },
    {
      "cell_type": "code",
      "execution_count": null,
      "metadata": {},
      "outputs": [],
      "source": [
        "#@title Use 16k audio to extract content encoding\n",
        "!PYTHONPATH=. python prepare/preprocess_hubert.py -w data_svc/waves-16k/ -v data_svc/hubert"
      ]
    },
    {
      "cell_type": "code",
      "execution_count": null,
      "metadata": {
        "id": "ovRqQUINSoII"
      },
      "outputs": [],
      "source": [
        "#@title Extract Timbre Features\n",
        "!PYTHONPATH=. python prepare/preprocess_speaker.py data_svc/waves-16k/ data_svc/speaker"
      ]
    },
    {
      "cell_type": "code",
      "execution_count": null,
      "metadata": {
        "id": "s8Ba8Fd1bzzX"
      },
      "outputs": [],
      "source": [
        "# (Resolve '.ipynb_checkpoints' related errors)\n",
        "!rm -rf \"find -type d -name .ipynb_checkpoints\""
      ]
    },
    {
      "cell_type": "code",
      "execution_count": null,
      "metadata": {
        "id": "ic9q599_b0Ae"
      },
      "outputs": [],
      "source": [
        "# (Resolve '.ipynb_checkpoints' related errors)\n",
        "!rm -rf .ipynb_checkpoints\n",
        "!find . -name \".ipynb_checkpoints\" -exec rm -rf {} \\;"
      ]
    },
    {
      "cell_type": "code",
      "execution_count": null,
      "metadata": {
        "id": "QamG3_B6o3vF"
      },
      "outputs": [],
      "source": [
        "#@title Extract Average Timbre\n",
        "!PYTHONPATH=. python prepare/preprocess_speaker_ave.py data_svc/speaker/ data_svc/singer"
      ]
    },
    {
      "cell_type": "code",
      "execution_count": null,
      "metadata": {
        "id": "3wBmyQHvSs6K"
      },
      "outputs": [],
      "source": [
        "#@title Extract Spec\n",
        "!PYTHONPATH=. python prepare/preprocess_spec.py -w data_svc/waves-32k/ -s data_svc/specs"
      ]
    },
    {
      "cell_type": "code",
      "execution_count": null,
      "metadata": {
        "id": "tUcljCLbS5O3"
      },
      "outputs": [],
      "source": [
        "#@title Generate Index\n",
        "!python prepare/preprocess_train.py"
      ]
    },
    {
      "cell_type": "code",
      "execution_count": null,
      "metadata": {
        "id": "30fXnscFS7Wo"
      },
      "outputs": [],
      "source": [
        "#@title Training File Debugging\n",
        "!PYTHONPATH=. python prepare/preprocess_zzz.py"
      ]
    },
    {
      "cell_type": "code",
      "execution_count": null,
      "metadata": {
        "id": "hacR8qDFVOWo"
      },
      "outputs": [],
      "source": [
        "#@title  Set Model Backup\n",
        "#@markdown **Whether to backup the model to cloud drive, it is recommended to backup as colab can crash at any time, by default saved to root directory Sovits5.0 folder on cloud drive**\n",
        "Save_to_drive = True #@param {type:\"boolean\"}\n",
        "if Save_to_drive:\n",
        "  !mkdir -p /content/so-vits-svc-5.0/chkpt/\n",
        "  !rm -rf /content/so-vits-svc-5.0/chkpt/\n",
        "  !mkdir -p /content/drive/MyDrive/Sovits5.0\n",
        "  !ln -s /content/drive/MyDrive/Sovits5.0 /content/so-vits-svc-5.0/chkpt/"
      ]
    },
    {
      "cell_type": "code",
      "execution_count": null,
      "metadata": {
        "id": "5BIiKIAoU3Kd"
      },
      "outputs": [],
      "source": [
        "#@title  Start Training\n",
        "%load_ext tensorboard\n",
        "%tensorboard --logdir /content/so-vits-svc-5.0/logs/\n",
        "\n",
        "!PYTHONPATH=. python svc_trainer.py -c configs/base.yaml -n sovits5.0"
      ]
    }
  ],
  "metadata": {
    "accelerator": "GPU",
    "colab": {
      "provenance": []
    },
    "gpuClass": "standard",
    "kernelspec": {
      "display_name": "Python 3",
      "name": "python3"
    },
    "language_info": {
      "name": "python"
    }
  },
  "nbformat": 4,
  "nbformat_minor": 0
}
